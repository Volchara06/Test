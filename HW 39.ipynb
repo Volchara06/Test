{
 "cells": [
  {
   "cell_type": "code",
   "execution_count": 1,
   "id": "7bb238b5-63d2-4e5e-9772-6f57e75b8954",
   "metadata": {},
   "outputs": [
    {
     "name": "stdout",
     "output_type": "stream",
     "text": [
      "['racecar', 'level', 'deified']\n"
     ]
    }
   ],
   "source": [
    "words = [\"racecar\", \"hello\", \"level\", \"deified\", \"python\"]\n",
    "def filter_palindromes(words):\n",
    "    is_palindrome = lambda word: word == word[::-1]\n",
    "    return list(filter(is_palindrome, words))\n",
    "print (filter_palindromes(words))"
   ]
  },
  {
   "cell_type": "code",
   "execution_count": 2,
   "id": "9e8fadcd-dede-4bf0-88e0-670ccec62bb0",
   "metadata": {},
   "outputs": [
    {
     "name": "stdout",
     "output_type": "stream",
     "text": [
      "3\n",
      "10\n",
      "5\n",
      "16\n",
      "8\n",
      "4\n",
      "2\n",
      "1\n"
     ]
    }
   ],
   "source": [
    "def collatz_sequence_generator(start_number):\n",
    "    current_number = start_number\n",
    "    \n",
    "    def next_number():\n",
    "        nonlocal current_number\n",
    "        if current_number == 1:\n",
    "            return None\n",
    "        elif current_number % 2 == 0:\n",
    "            current_number //= 2\n",
    "        else:\n",
    "            current_number = current_number * 3 + 1\n",
    "        return current_number\n",
    "    \n",
    "    return next_number\n",
    "generator = collatz_sequence_generator(6)\n",
    "next_number = generator()\n",
    "while next_number:\n",
    "    print(next_number)\n",
    "    next_number = generator()"
   ]
  },
  {
   "cell_type": "code",
   "execution_count": 3,
   "id": "d4e6863d-e59b-4a09-b432-133cefebea15",
   "metadata": {},
   "outputs": [
    {
     "name": "stdout",
     "output_type": "stream",
     "text": [
      "Время выполнения функции filter_divisible_by_2: 0.0 секунд\n",
      "Результат выделение целых чисел : [8, 16]\n",
      "Квадратный корень чисел : [2.8284271247461903, 4.0]\n",
      "Результат округления вверх: [3, 4]\n",
      "Результат округления вниз: [2, 4]\n"
     ]
    }
   ],
   "source": [
    "import math\n",
    "import time\n",
    "\n",
    "\n",
    "def calculate_time(func):\n",
    "    def wrapper(*args, **kwargs):\n",
    "        start_time = time.time()\n",
    "        result = func(*args, **kwargs)\n",
    "        end_time = time.time()\n",
    "        print(f\"Время выполнения функции {func.__name__}: {end_time - start_time} секунд\")\n",
    "        return result\n",
    "    return wrapper\n",
    "    \n",
    "a = [7, 8, 9, 16, 25]\n",
    "b = []\n",
    "@calculate_time\n",
    "def filter_divisible_by_2(arr):\n",
    "    for num in arr:\n",
    "        if num % 2 == 0:\n",
    "            b.append(num)\n",
    "    return b\n",
    "b = filter_divisible_by_2(a)\n",
    "    ##a1 = [x for x in a if x % 2 == 0]\n",
    "\n",
    "print(\"Результат выделение целых чисел :\",b)\n",
    "        \n",
    "\n",
    "\n",
    "def replace_with_square_root(b):\n",
    "    return [(math.sqrt(x)) for x in b]\n",
    "print (\"Квадратный корень чисел :\" , replace_with_square_root(b))\n",
    "\n",
    "def round_number(b, direction='down'):\n",
    "    result = []\n",
    "    for num in b:\n",
    "        if direction == \"up\":\n",
    "            result.append(math.ceil(math.sqrt(num)))  # Округление вверх\n",
    "        elif direction == \"down\":\n",
    "            result.append(math.floor(math.sqrt(num))) # Округление вниз\n",
    "    return result\n",
    "        \n",
    "output_up = round_number(b, direction=\"up\")\n",
    "output_down = round_number(b, direction=\"down\")\n",
    "print(\"Результат округления вверх:\", output_up)\n",
    "print(\"Результат округления вниз:\", output_down)"
   ]
  },
  {
   "cell_type": "code",
   "execution_count": null,
   "id": "562d7872-9e01-42f7-9ffc-eb5878e3df23",
   "metadata": {},
   "outputs": [],
   "source": []
  }
 ],
 "metadata": {
  "kernelspec": {
   "display_name": "Python 3 (ipykernel)",
   "language": "python",
   "name": "python3"
  },
  "language_info": {
   "codemirror_mode": {
    "name": "ipython",
    "version": 3
   },
   "file_extension": ".py",
   "mimetype": "text/x-python",
   "name": "python",
   "nbconvert_exporter": "python",
   "pygments_lexer": "ipython3",
   "version": "3.11.5"
  }
 },
 "nbformat": 4,
 "nbformat_minor": 5
}
