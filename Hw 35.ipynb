{
 "cells": [
  {
   "cell_type": "code",
   "execution_count": 1,
   "id": "9a31c010-2023-438b-ad14-aa7096d42451",
   "metadata": {},
   "outputs": [
    {
     "name": "stdout",
     "output_type": "stream",
     "text": [
      "Overwriting distance.py\n"
     ]
    }
   ],
   "source": [
    "%%file distance.py\n",
    "from functools import total_ordering\n",
    "from typing import Any\n",
    "\n",
    "@total_ordering\n",
    "class Millimeter:\n",
    "    label = 'мм'\n",
    "    ratio = 1 # Отношение определяемой еденицы измерения к миллиметрам\n",
    "\n",
    "    def __init__(self, value: Any) -> None:\n",
    "        if isinstance(value, int):\n",
    "            self._value = float(value)\n",
    "        elif isinstance(value, float):\n",
    "            self._value = value\n",
    "        else:\n",
    "            self._value = value.as_millimeters() / self.ratio\n",
    "\n",
    "    def as_millimeters(self) -> float:\n",
    "      \n",
    "        return round(self._value * self.ratio, 5)\n",
    "        \n",
    "    def __eq__(self, other):\n",
    "        return self.as_millimeters() == other.as_millimeters()\n",
    "    \n",
    "    def __lt__(self, other):\n",
    "        return self.as_millimeters() < other.as_millimeters()\n",
    "        \n",
    "    def __hash__(self):q\n",
    "        return hash(self.as_millimeters())\n",
    "        \n",
    "    def __repr__(self):\n",
    "        return f\"{self.__class__.__name__}({self._value})\"\n",
    "\n",
    "    def __add__(self, other):\n",
    "        return type(self)((self.as_millimeters() + other.as_millimeters())/ self.ratio)\n",
    "    \n",
    "\n",
    "    def __sub__(self, other):\n",
    "        return  type(self)(self.as_millimeters()/ self.ratio - other.as_millimeters()/ self.ratio)\n",
    "        \n",
    "\n",
    "    def __mul__(self, other):\n",
    "        return type(self)(self.as_millimeters()/ self.ratio * other.as_millimeters() / self.ratio)\n",
    "        \n",
    "\n",
    "    def __truediv__(self, other):\n",
    "        return type(self)(self.as_millimeters() / other.as_millimeters())\n",
    "\n",
    "    def __int__(self):\n",
    "       return int(self.as_millimeters()) \n",
    "\n",
    "    def __float__(self):\n",
    "        return float(self.as_millimeters())\n",
    "        \n",
    "class Centimeter(Millimeter):\n",
    "    label = 'см'\n",
    "    ratio = 10\n",
    "class Meter(Millimeter):\n",
    "    label = 'метр'\n",
    "    ratio = 1000\n",
    "class Inch(Millimeter):\n",
    "    label = 'дюйм'\n",
    "    ratio = 25.4 "
   ]
  },
  {
   "cell_type": "code",
   "execution_count": 46,
   "id": "ae8841db-68ee-49e1-a12b-16a69cb2f56b",
   "metadata": {},
   "outputs": [
    {
     "name": "stdout",
     "output_type": "stream",
     "text": [
      "Overwriting tests_point_1.py\n"
     ]
    }
   ],
   "source": [
    "%%file tests_point_1.py\n",
    "\n",
    "from distance import Millimeter, Centimeter, Meter, Inch\n",
    "\n",
    "conversion_err = 'Неверный результат конвертации'\n",
    "\n",
    "def test_value_type():\n",
    "    instance = Millimeter(Meter(13))\n",
    "    assert isinstance(instance._value, float), 'Неверный тип атрибута _value'\n",
    "\n",
    "def test_init_millimeter():\n",
    "    instance = Millimeter(84.33)\n",
    "    assert instance.as_millimeters() == 84.33, 'Неверное значение атрибута _value'\n",
    "\n",
    "def test_convert_millimeters_to_meters():\n",
    "    assert Meter(Millimeter(99.62)).as_millimeters() == 99.62, conversion_err\n",
    "\n",
    "def test_convert_centimeters_to_meters():\n",
    "    assert Meter(Centimeter(61.3)).as_millimeters() == 613, conversion_err\n",
    "\n",
    "def test_convert_inches_to_meters():\n",
    "    assert Meter(Inch(47.04)).as_millimeters() == 1194.816, conversion_err\n",
    "\n",
    "def test_convert_millimeters_to_inches():\n",
    "    assert Inch(Millimeter(26.91)).as_millimeters() == 26.91, conversion_err\n",
    "\n",
    "def test_convert_centimeters_to_inches():\n",
    "    assert Inch(Centimeter(14.27)).as_millimeters() == 142.7, conversion_err\n",
    "\n",
    "def test_convert_meters_to_inches():\n",
    "    assert Inch(Meter(20.58)).as_millimeters() == 20580, conversion_err"
   ]
  },
  {
   "cell_type": "code",
   "execution_count": 48,
   "id": "666b55f1-6685-4535-a371-8ced2bdafc68",
   "metadata": {},
   "outputs": [
    {
     "name": "stdout",
     "output_type": "stream",
     "text": [
      "Writing tests_point_2.py\n"
     ]
    }
   ],
   "source": [
    "%%file tests_point_2.py\n",
    "\n",
    "from distance import Millimeter, Centimeter, Meter, Inch\n",
    "\n",
    "def test_repr_method():\n",
    "    instance = Inch(9.2332)\n",
    "    assert repr(instance) in ['Inch(value=9.2332)', 'Inch(9.2332)'], 'Метод __repr__ представляет некорректную или недостаточно информации об объекте'"
   ]
  },
  {
   "cell_type": "code",
   "execution_count": 6,
   "id": "545637d7-8011-4e2e-af8d-9e530679171e",
   "metadata": {},
   "outputs": [
    {
     "name": "stdout",
     "output_type": "stream",
     "text": [
      "Writing tests_point_3.py\n"
     ]
    }
   ],
   "source": [
    "%%file tests_point_3.py\n",
    "\n",
    "from distance import Millimeter, Centimeter, Meter, Inch\n",
    "\n",
    "def test_add_method():\n",
    "    left = Meter(9.2)\n",
    "    right = Inch(9.2)\n",
    "    assert (left + right).as_millimeters() == 9433.68, 'Метод __add__ реализован не корректно'\n",
    "\n",
    "def test_sub_method():\n",
    "    left = Inch(86.44)\n",
    "    right = Millimeter(94.78)\n",
    "    assert (left - right).as_millimeters() == 2100.796, 'Метод __sub__ реализован не корректно'\n",
    "\n",
    "def test_mul_method():\n",
    "    left = Centimeter(94.95)\n",
    "    right = Millimeter(10.8)\n",
    "    assert (left * right).as_millimeters() == 1025.46, 'Метод __mul__ реализован не корректно'\n",
    "\n",
    "def test_truediv_method():\n",
    "    left = Meter(38.07)\n",
    "    right = Millimeter(44.74)\n",
    "    assert (left / right).as_millimeters() == 850916.4059, 'Метод __mul__ реализован не корректно'"
   ]
  },
  {
   "cell_type": "code",
   "execution_count": 44,
   "id": "070b4055-b314-4644-96bf-6449ab76e345",
   "metadata": {},
   "outputs": [
    {
     "name": "stdout",
     "output_type": "stream",
     "text": [
      "Writing tests_point_4.py\n"
     ]
    }
   ],
   "source": [
    "%%file tests_point_4.py\n",
    "\n",
    "from distance import Millimeter, Centimeter, Meter, Inch\n",
    "\n",
    "def test_hash_method():\n",
    "    instance = Meter(20.64)\n",
    "    assert hash(instance) == hash(20640)\n",
    "\n",
    "def test_eq_method():\n",
    "    left = Millimeter(20.64)\n",
    "    right = Meter(0.02064)\n",
    "    assert left == right, 'Неверный результат сравнения'\n",
    "\n",
    "def test_lt_method():\n",
    "    left = Millimeter(74.0)\n",
    "    right = Meter(0.075)\n",
    "    assert left < right, 'Неверный результат сравнения'\n",
    "\n",
    "def test_ge_method():\n",
    "    left = Meter(57.97)\n",
    "    assert not (left.__ge__(left) is NotImplemented), 'Метод __ge__ не реализован'"
   ]
  },
  {
   "cell_type": "code",
   "execution_count": 47,
   "id": "9bf334b7-48ba-433d-9e5e-ffbacefc35a9",
   "metadata": {},
   "outputs": [
    {
     "name": "stdout",
     "output_type": "stream",
     "text": [
      "Writing tests_point_5.py\n"
     ]
    }
   ],
   "source": [
    "%%file tests_point_5.py\n",
    "\n",
    "from distance import Millimeter, Centimeter, Meter, Inch\n",
    "\n",
    "import random\n",
    "\n",
    "def test_int_value_method():\n",
    "    value = random.random()\n",
    "    instance = Meter(value)\n",
    "    assert int(instance) == int(value * 1000)\n",
    "\n",
    "def test_int_type_method():\n",
    "    instance = Meter(36.94)\n",
    "    assert type(int(instance)) is int\n",
    "\n",
    "def test_float_value_method():\n",
    "    value = random.random()\n",
    "    instance = Inch(value)\n",
    "    assert float(instance) == float(round(value * 25.4, 5))\n",
    "\n",
    "def test_int_type_method():\n",
    "    instance = Inch(43.63)\n",
    "    assert type(float(instance)) is float\n"
   ]
  },
  {
   "cell_type": "code",
   "execution_count": null,
   "id": "7bacef7e-fcec-42ae-b62c-b9fee3193cec",
   "metadata": {},
   "outputs": [],
   "source": []
  }
 ],
 "metadata": {
  "kernelspec": {
   "display_name": "Python 3 (ipykernel)",
   "language": "python",
   "name": "python3"
  },
  "language_info": {
   "codemirror_mode": {
    "name": "ipython",
    "version": 3
   },
   "file_extension": ".py",
   "mimetype": "text/x-python",
   "name": "python",
   "nbconvert_exporter": "python",
   "pygments_lexer": "ipython3",
   "version": "3.11.5"
  }
 },
 "nbformat": 4,
 "nbformat_minor": 5
}
